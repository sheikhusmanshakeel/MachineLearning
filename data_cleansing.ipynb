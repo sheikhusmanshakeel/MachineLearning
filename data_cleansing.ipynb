{
 "cells": [
  {
   "cell_type": "code",
   "execution_count": 38,
   "metadata": {},
   "outputs": [
    {
     "data": {
      "text/html": [
       "<script>requirejs.config({paths: { 'plotly': ['https://cdn.plot.ly/plotly-latest.min']},});if(!window.Plotly) {{require(['plotly'],function(plotly) {window.Plotly=plotly;});}}</script>"
      ],
      "text/vnd.plotly.v1+html": [
       "<script>requirejs.config({paths: { 'plotly': ['https://cdn.plot.ly/plotly-latest.min']},});if(!window.Plotly) {{require(['plotly'],function(plotly) {window.Plotly=plotly;});}}</script>"
      ]
     },
     "metadata": {},
     "output_type": "display_data"
    }
   ],
   "source": [
    "import pandas as pd\n",
    "import numpy as np\n",
    "import logging\n",
    "import sys\n",
    "import os\n",
    "import scipy\n",
    "from sklearn import linear_model\n",
    "pd.options.display.max_rows = 999\n",
    "pd.set_option('display.max_columns',500)\n",
    "\n",
    "import bokeh\n",
    "from plotly.offline import plot, iplot, init_notebook_mode\n",
    "from plotly.offline import download_plotlyjs \n",
    "import plotly.graph_objs as go\n",
    "init_notebook_mode(connected=True)"
   ]
  },
  {
   "cell_type": "code",
   "execution_count": 3,
   "metadata": {
    "collapsed": true
   },
   "outputs": [],
   "source": [
    "logging.basicConfig(level=logging.DEBUG)\n",
    "logger = logging.getLogger(\"regress\")"
   ]
  },
  {
   "cell_type": "code",
   "execution_count": 4,
   "metadata": {
    "collapsed": true
   },
   "outputs": [],
   "source": [
    "df_train = pd.read_csv(\"train.csv\")"
   ]
  },
  {
   "cell_type": "code",
   "execution_count": 5,
   "metadata": {
    "collapsed": true
   },
   "outputs": [],
   "source": [
    "df_train.columns = df_train.columns.str.lower()"
   ]
  },
  {
   "cell_type": "code",
   "execution_count": 6,
   "metadata": {
    "collapsed": true
   },
   "outputs": [],
   "source": [
    "outside_features = ['id', 'mssubclass', 'mszoning', 'lotfrontage', 'lotarea', 'lotshape', 'landcontour', 'bldgtype',\n",
    " 'landslope', 'housestyle', 'overallqual', 'overallcond', 'yearbuilt', 'yearremodadd', 'roofstyle', 'roofmatl',\n",
    " 'exterior1st', 'masvnrtype', 'masvnrarea', 'exterqual', 'extercond', 'foundation', 'mosold',\n",
    " 'yrsold', 'saletype', 'salecondition', 'saleprice']"
   ]
  },
  {
   "cell_type": "code",
   "execution_count": 7,
   "metadata": {
    "collapsed": true
   },
   "outputs": [],
   "source": [
    "out_df = df_train[outside_features].copy()"
   ]
  },
  {
   "cell_type": "code",
   "execution_count": 8,
   "metadata": {
    "collapsed": true
   },
   "outputs": [],
   "source": [
    "lotshape_df = pd.DataFrame(columns=[\"lotshape\",\"lotshape_r\",\"lotshape_desc\"],\n",
    "                           data=[[\"Reg\",0,\"Regular\"],[\"IR1\",1, \"Slightly Irregular\"],\n",
    "                                 [\"IR2\",2,\"Moderately Irregular\"],[\"IR3\",3, \"Irregular\"]])"
   ]
  },
  {
   "cell_type": "code",
   "execution_count": 9,
   "metadata": {
    "collapsed": true
   },
   "outputs": [],
   "source": [
    "landcontour_df = pd.DataFrame(columns=[\"landcontour\",\"landcontour_r\",\"landcontour_desc\"],\n",
    "                           data=[[\"Lvl\",0,\"Near Flat/Level\"],[\"Bnk\",1, \"anked - Quick and significant rise from street grade to building\"],\n",
    "                                 [\"Low\",2,\"Depression\"],[\"HLS\",3, \"Hillside - Significant slope from side to side\"]])"
   ]
  },
  {
   "cell_type": "code",
   "execution_count": 10,
   "metadata": {
    "collapsed": true
   },
   "outputs": [],
   "source": [
    "bldgtype_df = pd.DataFrame(columns=[\"bldgtype\",\"bldgtype_r\",\"bldgtype_desc\"],\n",
    "                           data=[[\"1Fam\",0,\"Single-family Detached\"],[\"2fmCon\",1, \"Two-family Conversion\"],\n",
    "                                 [\"Duplex\",2,\"Duplex\"],[\"TwnhsE\",3, \"Townhouse End Unit\"]\n",
    "                                , [\"Twnhs\",4, \"ownhouse Inside Unit\"]])"
   ]
  },
  {
   "cell_type": "code",
   "execution_count": 11,
   "metadata": {
    "collapsed": true
   },
   "outputs": [],
   "source": [
    "landslope_df = pd.DataFrame(columns=[\"landslope\",\"landslope_r\",\"landslope_desc\"],\n",
    "                           data=[[\"Gtl\",0,\"Gentle slope\"],[\"Mod\",1, \"Moderate Slope\"],\n",
    "                                 [\"Sev\",2,\"Severe Slope\"]])"
   ]
  },
  {
   "cell_type": "code",
   "execution_count": 12,
   "metadata": {
    "collapsed": true
   },
   "outputs": [],
   "source": [
    "housestyle_df = pd.DataFrame(columns=[\"housestyle\",\"housestyle_r\",\"housestyle_desc\"],\n",
    "                           data=[ [\"1Story\",0,\"One story\"]\n",
    "                                 ,[\"1.5Fin\",1, \"One and one-half story: 2nd level finished\"]\n",
    "                                 ,[\"1.5Unf\",2,\"One and one-half story: 2nd level unfinished\"]\n",
    "                                 ,[\"2Story\",3, \"Two Storey\"]\n",
    "                                 ,[\"2.5Fin\",5, \"Two and one-half story: 2nd level finished\"]\n",
    "                                 ,[\"2.5Unf\",6, \"wo and one-half story: 2nd level unfinished\"]\n",
    "                                 ,[\"SFoyer\",7, \"Split Foyer\"]\n",
    "                                 ,[\"SLvl\",8, \"Split Level\"]                                \n",
    "                                ])\n",
    "# Justification: You have more control over the recoding. \n",
    "# For example, 2storey and 2.5 storey can be recoded as a single variable"
   ]
  },
  {
   "cell_type": "code",
   "execution_count": 13,
   "metadata": {
    "collapsed": true
   },
   "outputs": [],
   "source": [
    "roofstyle_df = pd.DataFrame(columns=[\"roofstyle\",\"roofstyle_r\",\"roofstyle_desc\"],\n",
    "                           data=[ [\"Flat\",0,\"Flat\"]\n",
    "                                 ,[\"Gable\",1, \"Gable\"]\n",
    "                                 ,[\"Gambrel\",2,\"Gambrel\"]\n",
    "                                 ,[\"Hip\",3,\"Hip\"]\n",
    "                                 ,[\"Mansard\",4,\"Mansard\"]\n",
    "                                 ,[\"Shed\",5,\"Shed\"]                                 \n",
    "                                ])"
   ]
  },
  {
   "cell_type": "code",
   "execution_count": 14,
   "metadata": {
    "collapsed": true
   },
   "outputs": [],
   "source": [
    "roofmatl_df = pd.DataFrame(columns=[\"roofmatl\",\"roofmatl_r\",\"roofmatl_desc\"],\n",
    "                           data=[ [\"ClyTile\",0,\"Clay or Tile\"]\n",
    "                                 ,[\"CompShg\",1, \"Standard (Composite) Shingle\"]\n",
    "                                 ,[\"Membran\",2,\"Membran\"]\n",
    "                                 ,[\"Metal\",3,\"Metal\"]\n",
    "                                 ,[\"Roll\",4,\"Roll\"]\n",
    "                                 ,[\"Tar&Grv\",5,\"Gravel & Tar\"]\n",
    "                                 ,[\"WdShake\",6,\"Wood Shakes\"]                                 \n",
    "                                 ,[\"WdShngl\",7,\"Wood Shingles\"]                                 \n",
    "                                ])"
   ]
  },
  {
   "cell_type": "code",
   "execution_count": 15,
   "metadata": {
    "collapsed": true
   },
   "outputs": [],
   "source": [
    "exterior1st_df = pd.DataFrame(columns=[\"exterior1st\",\"exterior1st_r\",\"exterior1st_desc\"],\n",
    "                           data=[ [\"AsbShng\",0,\"Asbestos Shingles\"]\n",
    "                                 ,[\"AsphShn\",1, \"Asphalt Shingles\"]\n",
    "                                 ,[\"BrkComm\",2,\"Brick Common\"]\n",
    "                                 ,[\"BrkFace\",3,\"Brick Face\"]\n",
    "                                 ,[\"CBlock\",4,\"Cinder Block\"]\n",
    "                                 ,[\"CemntBd\",5,\"Cement Board\"]                                 \n",
    "                                 ,[\"HdBoard\",5,\"Hard Board\"]                                 \n",
    "                                 ,[\"ImStucc\",5,\"Imitation Stucco\"]                                 \n",
    "                                 ,[\"MetalSd\",5,\"Metal Siding\"]                                 \n",
    "                                 ,[\"Other\",5,\"Other\"]                                 \n",
    "                                 ,[\"Plywood\",5,\"Plywood\"]                                 \n",
    "                                 ,[\"PreCast\",5,\"PreCast\"]                                 \n",
    "                                 ,[\"Stone\",5,\"Stone\"]                                 \n",
    "                                 ,[\"Stucco\",5,\"Stucco\"]                                 \n",
    "                                 ,[\"VinylSd\",5,\"Vinyl Siding\"]                                 \n",
    "                                 ,[\"Wd Sdng\",5,\"Wood Siding\"]                                 \n",
    "                                 ,[\"WdShing\",5,\"Wood Shingles\"]                                 \n",
    "                                ])"
   ]
  },
  {
   "cell_type": "code",
   "execution_count": 16,
   "metadata": {
    "collapsed": true
   },
   "outputs": [],
   "source": [
    "masvnrtype_df = pd.DataFrame(columns=[\"masvnrtype\",\"masvnrtype_r\",\"masvnrtype_desc\"],\n",
    "                           data=[ [\"BrkCmn\",0,\"Brick Common\"]\n",
    "                                 ,[\"BrkFace\",1, \"Brick Face\"]\n",
    "                                 ,[\"CBlock\",2,\"Cinder Block\"]\n",
    "                                 ,[\"None\",3,\"None\"]\n",
    "                                 ,[\"Stone\",4,\"Stone\"]                                 \n",
    "                                ])"
   ]
  },
  {
   "cell_type": "code",
   "execution_count": 17,
   "metadata": {
    "collapsed": true
   },
   "outputs": [],
   "source": [
    "exterqual_df = pd.DataFrame(columns=[\"exterqual\",\"exterqual_r\",\"exterqual_desc\"],\n",
    "                           data=[ [\"Ex\",2,\"Excellent\"]\n",
    "                                 ,[\"Gd\",1, \"Good\"]\n",
    "                                 ,[\"TA\",0,\"Average\"]\n",
    "                                 ,[\"Fair\",-1,\"Fair\"]\n",
    "                                 ,[\"Po\",-2,\"Poor\"]                                 \n",
    "                                ])"
   ]
  },
  {
   "cell_type": "code",
   "execution_count": 18,
   "metadata": {
    "collapsed": true
   },
   "outputs": [],
   "source": [
    "extercond_df = pd.DataFrame(columns=[\"extercond\",\"extercond_r\",\"extercond_desc\"],\n",
    "                           data=[ [\"Ex\",2,\"Excellent\"]\n",
    "                                 ,[\"Gd\",1, \"Good\"]\n",
    "                                 ,[\"TA\",0,\"Average\"]\n",
    "                                 ,[\"Fair\",-1,\"Fair\"]\n",
    "                                 ,[\"Po\",-2,\"Poor\"]                                 \n",
    "                                ])"
   ]
  },
  {
   "cell_type": "code",
   "execution_count": 19,
   "metadata": {
    "collapsed": true
   },
   "outputs": [],
   "source": [
    "foundation_df = pd.DataFrame(columns=[\"foundation\",\"foundation_r\",\"foundation_desc\"],\n",
    "                           data=[ [\"BrkTil\",0,\"Brick & Tile\"]\n",
    "                                 ,[\"CBlock\",1, \"Cinder Block\"]\n",
    "                                 ,[\"PConc\",2,\"Poured Contrete\"]\n",
    "                                 ,[\"Slab\",3,\"Slab\"]\n",
    "                                 ,[\"Stone\",4,\"Stone\"]                                 \n",
    "                                 ,[\"Wood\",5,\"Wood\"]                                 \n",
    "                                ])"
   ]
  },
  {
   "cell_type": "code",
   "execution_count": 20,
   "metadata": {
    "collapsed": true
   },
   "outputs": [],
   "source": [
    "saletype_df = pd.DataFrame(columns=[\"saletype\",\"saletype_r\",\"saletype_desc\"],\n",
    "                           data=[ [\"WD\",0,\"Warranty Deed - Conventional\"]\n",
    "                                 ,[\"CWD\",1, \"Warranty Deed - Cash\"]\n",
    "                                 ,[\"VWD\",2,\"Warranty Deed - VA Loan\"]\n",
    "                                 ,[\"New\",3,\"Home just constructed and sold\"]\n",
    "                                 ,[\"COD\",4,\"Court Officer Deed/Estate\"]                                 \n",
    "                                 ,[\"Con\",5,\"Contract 15% Down payment regular terms\"]                              \n",
    "                                 ,[\"ConLw\",6,\"Contract Low Down payment and low interest\"]                              \n",
    "                                 ,[\"ConLI\",7,\"Contract Low Interest\"]                              \n",
    "                                 ,[\"ConLD\",8,\"Contract Low Down\"]                              \n",
    "                                 ,[\"Oth\",9,\"Other\"]                                        \n",
    "                                ])"
   ]
  },
  {
   "cell_type": "code",
   "execution_count": 21,
   "metadata": {
    "collapsed": true
   },
   "outputs": [],
   "source": [
    "salecondition_df = pd.DataFrame(columns=[\"salecondition\",\"salecondition_r\",\"salecondition_desc\"],\n",
    "                           data=[ [\"Normal\",0,\"Normal Sale\"]\n",
    "                                 ,[\"Abnorml\",1, \"Abnormal Sale -  trade, foreclosure, short sale\"]\n",
    "                                 ,[\"AdjLand\",2,\"Adjoining Land Purchase\"]\n",
    "                                 ,[\"Alloca\",3,\"Allocation - two linked properties with separate deeds, typically condo with a garage unit\"]\n",
    "                                 ,[\"Family\",4,\"Sale between family members\"]                                 \n",
    "                                 ,[\"Partial\",5,\"Home was not completed when last assessed (associated with New Homes)\"]                                                                  \n",
    "                                ])"
   ]
  },
  {
   "cell_type": "code",
   "execution_count": 22,
   "metadata": {
    "collapsed": true
   },
   "outputs": [],
   "source": [
    "out_df = pd.merge(out_df,lotshape_df,on=['lotshape'], how='left' )\n",
    "out_df = pd.merge(out_df,landcontour_df,on=['landcontour'], how='left' )\n",
    "out_df = pd.merge(out_df,bldgtype_df,on=['bldgtype'], how='left' )\n",
    "out_df = pd.merge(out_df,landslope_df,on=['landslope'], how='left' )\n",
    "out_df = pd.merge(out_df,housestyle_df,on=['housestyle'], how='left' )\n",
    "out_df = pd.merge(out_df,roofstyle_df,on=['roofstyle'], how='left' )\n",
    "out_df = pd.merge(out_df,roofmatl_df,on=['roofmatl'], how='left' )\n",
    "out_df = pd.merge(out_df,exterior1st_df,on=['exterior1st'], how='left' )\n",
    "out_df = pd.merge(out_df,masvnrtype_df,on=['masvnrtype'], how='left' )\n",
    "out_df = pd.merge(out_df,exterqual_df,on=['exterqual'], how='left' )\n",
    "out_df = pd.merge(out_df,extercond_df,on=['extercond'], how='left' )\n",
    "out_df = pd.merge(out_df,foundation_df,on=['foundation'], how='left' )\n",
    "out_df = pd.merge(out_df,saletype_df,on=['saletype'], how='left' )\n",
    "out_df = pd.merge(out_df,salecondition_df,on=['salecondition'], how='left' )"
   ]
  },
  {
   "cell_type": "code",
   "execution_count": 23,
   "metadata": {
    "collapsed": true
   },
   "outputs": [],
   "source": [
    "out_df['day'] = 1\n",
    "out_df['month'] = out_df.mosold\n",
    "out_df['year'] = out_df.yrsold\n",
    "out_df['monthyear'] = pd.to_datetime(out_df[['year','month','day']], format='%Y%m')"
   ]
  },
  {
   "cell_type": "code",
   "execution_count": 24,
   "metadata": {},
   "outputs": [
    {
     "data": {
      "text/html": [
       "<div>\n",
       "<style>\n",
       "    .dataframe thead tr:only-child th {\n",
       "        text-align: right;\n",
       "    }\n",
       "\n",
       "    .dataframe thead th {\n",
       "        text-align: left;\n",
       "    }\n",
       "\n",
       "    .dataframe tbody tr th {\n",
       "        vertical-align: top;\n",
       "    }\n",
       "</style>\n",
       "<table border=\"1\" class=\"dataframe\">\n",
       "  <thead>\n",
       "    <tr style=\"text-align: right;\">\n",
       "      <th></th>\n",
       "      <th>id</th>\n",
       "      <th>mssubclass</th>\n",
       "      <th>mszoning</th>\n",
       "      <th>lotfrontage</th>\n",
       "      <th>lotarea</th>\n",
       "      <th>lotshape</th>\n",
       "      <th>landcontour</th>\n",
       "      <th>bldgtype</th>\n",
       "      <th>landslope</th>\n",
       "      <th>housestyle</th>\n",
       "      <th>overallqual</th>\n",
       "      <th>overallcond</th>\n",
       "      <th>yearbuilt</th>\n",
       "      <th>yearremodadd</th>\n",
       "      <th>roofstyle</th>\n",
       "      <th>roofmatl</th>\n",
       "      <th>exterior1st</th>\n",
       "      <th>masvnrtype</th>\n",
       "      <th>masvnrarea</th>\n",
       "      <th>exterqual</th>\n",
       "      <th>extercond</th>\n",
       "      <th>foundation</th>\n",
       "      <th>mosold</th>\n",
       "      <th>yrsold</th>\n",
       "      <th>saletype</th>\n",
       "      <th>salecondition</th>\n",
       "      <th>saleprice</th>\n",
       "      <th>lotshape_r</th>\n",
       "      <th>lotshape_desc</th>\n",
       "      <th>landcontour_r</th>\n",
       "      <th>landcontour_desc</th>\n",
       "      <th>bldgtype_r</th>\n",
       "      <th>bldgtype_desc</th>\n",
       "      <th>landslope_r</th>\n",
       "      <th>landslope_desc</th>\n",
       "      <th>housestyle_r</th>\n",
       "      <th>housestyle_desc</th>\n",
       "      <th>roofstyle_r</th>\n",
       "      <th>roofstyle_desc</th>\n",
       "      <th>roofmatl_r</th>\n",
       "      <th>roofmatl_desc</th>\n",
       "      <th>exterior1st_r</th>\n",
       "      <th>exterior1st_desc</th>\n",
       "      <th>masvnrtype_r</th>\n",
       "      <th>masvnrtype_desc</th>\n",
       "      <th>exterqual_r</th>\n",
       "      <th>exterqual_desc</th>\n",
       "      <th>extercond_r</th>\n",
       "      <th>extercond_desc</th>\n",
       "      <th>foundation_r</th>\n",
       "      <th>foundation_desc</th>\n",
       "      <th>saletype_r</th>\n",
       "      <th>saletype_desc</th>\n",
       "      <th>salecondition_r</th>\n",
       "      <th>salecondition_desc</th>\n",
       "      <th>day</th>\n",
       "      <th>month</th>\n",
       "      <th>year</th>\n",
       "      <th>monthyear</th>\n",
       "    </tr>\n",
       "  </thead>\n",
       "  <tbody>\n",
       "    <tr>\n",
       "      <th>0</th>\n",
       "      <td>1</td>\n",
       "      <td>60</td>\n",
       "      <td>RL</td>\n",
       "      <td>65.0</td>\n",
       "      <td>8450</td>\n",
       "      <td>Reg</td>\n",
       "      <td>Lvl</td>\n",
       "      <td>1Fam</td>\n",
       "      <td>Gtl</td>\n",
       "      <td>2Story</td>\n",
       "      <td>7</td>\n",
       "      <td>5</td>\n",
       "      <td>2003</td>\n",
       "      <td>2003</td>\n",
       "      <td>Gable</td>\n",
       "      <td>CompShg</td>\n",
       "      <td>VinylSd</td>\n",
       "      <td>BrkFace</td>\n",
       "      <td>196.0</td>\n",
       "      <td>Gd</td>\n",
       "      <td>TA</td>\n",
       "      <td>PConc</td>\n",
       "      <td>2</td>\n",
       "      <td>2008</td>\n",
       "      <td>WD</td>\n",
       "      <td>Normal</td>\n",
       "      <td>208500</td>\n",
       "      <td>0</td>\n",
       "      <td>Regular</td>\n",
       "      <td>0</td>\n",
       "      <td>Near Flat/Level</td>\n",
       "      <td>0</td>\n",
       "      <td>Single-family Detached</td>\n",
       "      <td>0</td>\n",
       "      <td>Gentle slope</td>\n",
       "      <td>3</td>\n",
       "      <td>Two Storey</td>\n",
       "      <td>1</td>\n",
       "      <td>Gable</td>\n",
       "      <td>1</td>\n",
       "      <td>Standard (Composite) Shingle</td>\n",
       "      <td>5</td>\n",
       "      <td>Vinyl Siding</td>\n",
       "      <td>1.0</td>\n",
       "      <td>Brick Face</td>\n",
       "      <td>1.0</td>\n",
       "      <td>Good</td>\n",
       "      <td>0.0</td>\n",
       "      <td>Average</td>\n",
       "      <td>2</td>\n",
       "      <td>Poured Contrete</td>\n",
       "      <td>0</td>\n",
       "      <td>Warranty Deed - Conventional</td>\n",
       "      <td>0</td>\n",
       "      <td>Normal Sale</td>\n",
       "      <td>1</td>\n",
       "      <td>2</td>\n",
       "      <td>2008</td>\n",
       "      <td>2008-02-01</td>\n",
       "    </tr>\n",
       "    <tr>\n",
       "      <th>1</th>\n",
       "      <td>2</td>\n",
       "      <td>20</td>\n",
       "      <td>RL</td>\n",
       "      <td>80.0</td>\n",
       "      <td>9600</td>\n",
       "      <td>Reg</td>\n",
       "      <td>Lvl</td>\n",
       "      <td>1Fam</td>\n",
       "      <td>Gtl</td>\n",
       "      <td>1Story</td>\n",
       "      <td>6</td>\n",
       "      <td>8</td>\n",
       "      <td>1976</td>\n",
       "      <td>1976</td>\n",
       "      <td>Gable</td>\n",
       "      <td>CompShg</td>\n",
       "      <td>MetalSd</td>\n",
       "      <td>None</td>\n",
       "      <td>0.0</td>\n",
       "      <td>TA</td>\n",
       "      <td>TA</td>\n",
       "      <td>CBlock</td>\n",
       "      <td>5</td>\n",
       "      <td>2007</td>\n",
       "      <td>WD</td>\n",
       "      <td>Normal</td>\n",
       "      <td>181500</td>\n",
       "      <td>0</td>\n",
       "      <td>Regular</td>\n",
       "      <td>0</td>\n",
       "      <td>Near Flat/Level</td>\n",
       "      <td>0</td>\n",
       "      <td>Single-family Detached</td>\n",
       "      <td>0</td>\n",
       "      <td>Gentle slope</td>\n",
       "      <td>0</td>\n",
       "      <td>One story</td>\n",
       "      <td>1</td>\n",
       "      <td>Gable</td>\n",
       "      <td>1</td>\n",
       "      <td>Standard (Composite) Shingle</td>\n",
       "      <td>5</td>\n",
       "      <td>Metal Siding</td>\n",
       "      <td>3.0</td>\n",
       "      <td>None</td>\n",
       "      <td>0.0</td>\n",
       "      <td>Average</td>\n",
       "      <td>0.0</td>\n",
       "      <td>Average</td>\n",
       "      <td>1</td>\n",
       "      <td>Cinder Block</td>\n",
       "      <td>0</td>\n",
       "      <td>Warranty Deed - Conventional</td>\n",
       "      <td>0</td>\n",
       "      <td>Normal Sale</td>\n",
       "      <td>1</td>\n",
       "      <td>5</td>\n",
       "      <td>2007</td>\n",
       "      <td>2007-05-01</td>\n",
       "    </tr>\n",
       "    <tr>\n",
       "      <th>2</th>\n",
       "      <td>3</td>\n",
       "      <td>60</td>\n",
       "      <td>RL</td>\n",
       "      <td>68.0</td>\n",
       "      <td>11250</td>\n",
       "      <td>IR1</td>\n",
       "      <td>Lvl</td>\n",
       "      <td>1Fam</td>\n",
       "      <td>Gtl</td>\n",
       "      <td>2Story</td>\n",
       "      <td>7</td>\n",
       "      <td>5</td>\n",
       "      <td>2001</td>\n",
       "      <td>2002</td>\n",
       "      <td>Gable</td>\n",
       "      <td>CompShg</td>\n",
       "      <td>VinylSd</td>\n",
       "      <td>BrkFace</td>\n",
       "      <td>162.0</td>\n",
       "      <td>Gd</td>\n",
       "      <td>TA</td>\n",
       "      <td>PConc</td>\n",
       "      <td>9</td>\n",
       "      <td>2008</td>\n",
       "      <td>WD</td>\n",
       "      <td>Normal</td>\n",
       "      <td>223500</td>\n",
       "      <td>1</td>\n",
       "      <td>Slightly Irregular</td>\n",
       "      <td>0</td>\n",
       "      <td>Near Flat/Level</td>\n",
       "      <td>0</td>\n",
       "      <td>Single-family Detached</td>\n",
       "      <td>0</td>\n",
       "      <td>Gentle slope</td>\n",
       "      <td>3</td>\n",
       "      <td>Two Storey</td>\n",
       "      <td>1</td>\n",
       "      <td>Gable</td>\n",
       "      <td>1</td>\n",
       "      <td>Standard (Composite) Shingle</td>\n",
       "      <td>5</td>\n",
       "      <td>Vinyl Siding</td>\n",
       "      <td>1.0</td>\n",
       "      <td>Brick Face</td>\n",
       "      <td>1.0</td>\n",
       "      <td>Good</td>\n",
       "      <td>0.0</td>\n",
       "      <td>Average</td>\n",
       "      <td>2</td>\n",
       "      <td>Poured Contrete</td>\n",
       "      <td>0</td>\n",
       "      <td>Warranty Deed - Conventional</td>\n",
       "      <td>0</td>\n",
       "      <td>Normal Sale</td>\n",
       "      <td>1</td>\n",
       "      <td>9</td>\n",
       "      <td>2008</td>\n",
       "      <td>2008-09-01</td>\n",
       "    </tr>\n",
       "    <tr>\n",
       "      <th>3</th>\n",
       "      <td>4</td>\n",
       "      <td>70</td>\n",
       "      <td>RL</td>\n",
       "      <td>60.0</td>\n",
       "      <td>9550</td>\n",
       "      <td>IR1</td>\n",
       "      <td>Lvl</td>\n",
       "      <td>1Fam</td>\n",
       "      <td>Gtl</td>\n",
       "      <td>2Story</td>\n",
       "      <td>7</td>\n",
       "      <td>5</td>\n",
       "      <td>1915</td>\n",
       "      <td>1970</td>\n",
       "      <td>Gable</td>\n",
       "      <td>CompShg</td>\n",
       "      <td>Wd Sdng</td>\n",
       "      <td>None</td>\n",
       "      <td>0.0</td>\n",
       "      <td>TA</td>\n",
       "      <td>TA</td>\n",
       "      <td>BrkTil</td>\n",
       "      <td>2</td>\n",
       "      <td>2006</td>\n",
       "      <td>WD</td>\n",
       "      <td>Abnorml</td>\n",
       "      <td>140000</td>\n",
       "      <td>1</td>\n",
       "      <td>Slightly Irregular</td>\n",
       "      <td>0</td>\n",
       "      <td>Near Flat/Level</td>\n",
       "      <td>0</td>\n",
       "      <td>Single-family Detached</td>\n",
       "      <td>0</td>\n",
       "      <td>Gentle slope</td>\n",
       "      <td>3</td>\n",
       "      <td>Two Storey</td>\n",
       "      <td>1</td>\n",
       "      <td>Gable</td>\n",
       "      <td>1</td>\n",
       "      <td>Standard (Composite) Shingle</td>\n",
       "      <td>5</td>\n",
       "      <td>Wood Siding</td>\n",
       "      <td>3.0</td>\n",
       "      <td>None</td>\n",
       "      <td>0.0</td>\n",
       "      <td>Average</td>\n",
       "      <td>0.0</td>\n",
       "      <td>Average</td>\n",
       "      <td>0</td>\n",
       "      <td>Brick &amp; Tile</td>\n",
       "      <td>0</td>\n",
       "      <td>Warranty Deed - Conventional</td>\n",
       "      <td>1</td>\n",
       "      <td>Abnormal Sale -  trade, foreclosure, short sale</td>\n",
       "      <td>1</td>\n",
       "      <td>2</td>\n",
       "      <td>2006</td>\n",
       "      <td>2006-02-01</td>\n",
       "    </tr>\n",
       "    <tr>\n",
       "      <th>4</th>\n",
       "      <td>5</td>\n",
       "      <td>60</td>\n",
       "      <td>RL</td>\n",
       "      <td>84.0</td>\n",
       "      <td>14260</td>\n",
       "      <td>IR1</td>\n",
       "      <td>Lvl</td>\n",
       "      <td>1Fam</td>\n",
       "      <td>Gtl</td>\n",
       "      <td>2Story</td>\n",
       "      <td>8</td>\n",
       "      <td>5</td>\n",
       "      <td>2000</td>\n",
       "      <td>2000</td>\n",
       "      <td>Gable</td>\n",
       "      <td>CompShg</td>\n",
       "      <td>VinylSd</td>\n",
       "      <td>BrkFace</td>\n",
       "      <td>350.0</td>\n",
       "      <td>Gd</td>\n",
       "      <td>TA</td>\n",
       "      <td>PConc</td>\n",
       "      <td>12</td>\n",
       "      <td>2008</td>\n",
       "      <td>WD</td>\n",
       "      <td>Normal</td>\n",
       "      <td>250000</td>\n",
       "      <td>1</td>\n",
       "      <td>Slightly Irregular</td>\n",
       "      <td>0</td>\n",
       "      <td>Near Flat/Level</td>\n",
       "      <td>0</td>\n",
       "      <td>Single-family Detached</td>\n",
       "      <td>0</td>\n",
       "      <td>Gentle slope</td>\n",
       "      <td>3</td>\n",
       "      <td>Two Storey</td>\n",
       "      <td>1</td>\n",
       "      <td>Gable</td>\n",
       "      <td>1</td>\n",
       "      <td>Standard (Composite) Shingle</td>\n",
       "      <td>5</td>\n",
       "      <td>Vinyl Siding</td>\n",
       "      <td>1.0</td>\n",
       "      <td>Brick Face</td>\n",
       "      <td>1.0</td>\n",
       "      <td>Good</td>\n",
       "      <td>0.0</td>\n",
       "      <td>Average</td>\n",
       "      <td>2</td>\n",
       "      <td>Poured Contrete</td>\n",
       "      <td>0</td>\n",
       "      <td>Warranty Deed - Conventional</td>\n",
       "      <td>0</td>\n",
       "      <td>Normal Sale</td>\n",
       "      <td>1</td>\n",
       "      <td>12</td>\n",
       "      <td>2008</td>\n",
       "      <td>2008-12-01</td>\n",
       "    </tr>\n",
       "  </tbody>\n",
       "</table>\n",
       "</div>"
      ],
      "text/plain": [
       "   id  mssubclass mszoning  lotfrontage  lotarea lotshape landcontour  \\\n",
       "0   1          60       RL         65.0     8450      Reg         Lvl   \n",
       "1   2          20       RL         80.0     9600      Reg         Lvl   \n",
       "2   3          60       RL         68.0    11250      IR1         Lvl   \n",
       "3   4          70       RL         60.0     9550      IR1         Lvl   \n",
       "4   5          60       RL         84.0    14260      IR1         Lvl   \n",
       "\n",
       "  bldgtype landslope housestyle  overallqual  overallcond  yearbuilt  \\\n",
       "0     1Fam       Gtl     2Story            7            5       2003   \n",
       "1     1Fam       Gtl     1Story            6            8       1976   \n",
       "2     1Fam       Gtl     2Story            7            5       2001   \n",
       "3     1Fam       Gtl     2Story            7            5       1915   \n",
       "4     1Fam       Gtl     2Story            8            5       2000   \n",
       "\n",
       "   yearremodadd roofstyle roofmatl exterior1st masvnrtype  masvnrarea  \\\n",
       "0          2003     Gable  CompShg     VinylSd    BrkFace       196.0   \n",
       "1          1976     Gable  CompShg     MetalSd       None         0.0   \n",
       "2          2002     Gable  CompShg     VinylSd    BrkFace       162.0   \n",
       "3          1970     Gable  CompShg     Wd Sdng       None         0.0   \n",
       "4          2000     Gable  CompShg     VinylSd    BrkFace       350.0   \n",
       "\n",
       "  exterqual extercond foundation  mosold  yrsold saletype salecondition  \\\n",
       "0        Gd        TA      PConc       2    2008       WD        Normal   \n",
       "1        TA        TA     CBlock       5    2007       WD        Normal   \n",
       "2        Gd        TA      PConc       9    2008       WD        Normal   \n",
       "3        TA        TA     BrkTil       2    2006       WD       Abnorml   \n",
       "4        Gd        TA      PConc      12    2008       WD        Normal   \n",
       "\n",
       "   saleprice  lotshape_r       lotshape_desc  landcontour_r landcontour_desc  \\\n",
       "0     208500           0             Regular              0  Near Flat/Level   \n",
       "1     181500           0             Regular              0  Near Flat/Level   \n",
       "2     223500           1  Slightly Irregular              0  Near Flat/Level   \n",
       "3     140000           1  Slightly Irregular              0  Near Flat/Level   \n",
       "4     250000           1  Slightly Irregular              0  Near Flat/Level   \n",
       "\n",
       "   bldgtype_r           bldgtype_desc  landslope_r landslope_desc  \\\n",
       "0           0  Single-family Detached            0   Gentle slope   \n",
       "1           0  Single-family Detached            0   Gentle slope   \n",
       "2           0  Single-family Detached            0   Gentle slope   \n",
       "3           0  Single-family Detached            0   Gentle slope   \n",
       "4           0  Single-family Detached            0   Gentle slope   \n",
       "\n",
       "   housestyle_r housestyle_desc  roofstyle_r roofstyle_desc  roofmatl_r  \\\n",
       "0             3      Two Storey            1          Gable           1   \n",
       "1             0       One story            1          Gable           1   \n",
       "2             3      Two Storey            1          Gable           1   \n",
       "3             3      Two Storey            1          Gable           1   \n",
       "4             3      Two Storey            1          Gable           1   \n",
       "\n",
       "                  roofmatl_desc  exterior1st_r exterior1st_desc  masvnrtype_r  \\\n",
       "0  Standard (Composite) Shingle              5     Vinyl Siding           1.0   \n",
       "1  Standard (Composite) Shingle              5     Metal Siding           3.0   \n",
       "2  Standard (Composite) Shingle              5     Vinyl Siding           1.0   \n",
       "3  Standard (Composite) Shingle              5      Wood Siding           3.0   \n",
       "4  Standard (Composite) Shingle              5     Vinyl Siding           1.0   \n",
       "\n",
       "  masvnrtype_desc  exterqual_r exterqual_desc  extercond_r extercond_desc  \\\n",
       "0      Brick Face          1.0           Good          0.0        Average   \n",
       "1            None          0.0        Average          0.0        Average   \n",
       "2      Brick Face          1.0           Good          0.0        Average   \n",
       "3            None          0.0        Average          0.0        Average   \n",
       "4      Brick Face          1.0           Good          0.0        Average   \n",
       "\n",
       "   foundation_r  foundation_desc  saletype_r                 saletype_desc  \\\n",
       "0             2  Poured Contrete           0  Warranty Deed - Conventional   \n",
       "1             1     Cinder Block           0  Warranty Deed - Conventional   \n",
       "2             2  Poured Contrete           0  Warranty Deed - Conventional   \n",
       "3             0     Brick & Tile           0  Warranty Deed - Conventional   \n",
       "4             2  Poured Contrete           0  Warranty Deed - Conventional   \n",
       "\n",
       "   salecondition_r                               salecondition_desc  day  \\\n",
       "0                0                                      Normal Sale    1   \n",
       "1                0                                      Normal Sale    1   \n",
       "2                0                                      Normal Sale    1   \n",
       "3                1  Abnormal Sale -  trade, foreclosure, short sale    1   \n",
       "4                0                                      Normal Sale    1   \n",
       "\n",
       "   month  year  monthyear  \n",
       "0      2  2008 2008-02-01  \n",
       "1      5  2007 2007-05-01  \n",
       "2      9  2008 2008-09-01  \n",
       "3      2  2006 2006-02-01  \n",
       "4     12  2008 2008-12-01  "
      ]
     },
     "execution_count": 24,
     "metadata": {},
     "output_type": "execute_result"
    }
   ],
   "source": [
    "out_df.head()"
   ]
  },
  {
   "cell_type": "code",
   "execution_count": 25,
   "metadata": {
    "collapsed": true
   },
   "outputs": [],
   "source": [
    "out_df.drop(['day','month','year'], axis=1, inplace=True)"
   ]
  },
  {
   "cell_type": "code",
   "execution_count": 26,
   "metadata": {},
   "outputs": [
    {
     "data": {
      "text/plain": [
       "(0, 56)"
      ]
     },
     "execution_count": 26,
     "metadata": {},
     "output_type": "execute_result"
    }
   ],
   "source": [
    "out_df[out_df.landslope.isnull()].shape"
   ]
  },
  {
   "cell_type": "code",
   "execution_count": 27,
   "metadata": {},
   "outputs": [
    {
     "data": {
      "text/plain": [
       "LinearRegression(copy_X=True, fit_intercept=True, n_jobs=1, normalize=False)"
      ]
     },
     "execution_count": 27,
     "metadata": {},
     "output_type": "execute_result"
    }
   ],
   "source": [
    "lnr = linear_model.LinearRegression()\n",
    "lnr.fit(out_df[['lotarea', 'lotshape_r','landcontour_r']], out_df[['saleprice']])"
   ]
  },
  {
   "cell_type": "code",
   "execution_count": 28,
   "metadata": {},
   "outputs": [
    {
     "data": {
      "text/plain": [
       "array([[  1.58682015e+00,   2.79712444e+04,  -9.96539038e+01]])"
      ]
     },
     "execution_count": 28,
     "metadata": {},
     "output_type": "execute_result"
    }
   ],
   "source": [
    "lnr.coef_"
   ]
  },
  {
   "cell_type": "code",
   "execution_count": 29,
   "metadata": {},
   "outputs": [
    {
     "data": {
      "text/plain": [
       "array([ 152833.93576631])"
      ]
     },
     "execution_count": 29,
     "metadata": {},
     "output_type": "execute_result"
    }
   ],
   "source": [
    "lnr.intercept_"
   ]
  },
  {
   "cell_type": "code",
   "execution_count": 30,
   "metadata": {},
   "outputs": [
    {
     "data": {
      "text/plain": [
       "{'copy_X': True, 'fit_intercept': True, 'n_jobs': 1, 'normalize': False}"
      ]
     },
     "execution_count": 30,
     "metadata": {},
     "output_type": "execute_result"
    }
   ],
   "source": [
    "lnr.get_params()"
   ]
  },
  {
   "cell_type": "code",
   "execution_count": 31,
   "metadata": {},
   "outputs": [
    {
     "data": {
      "text/plain": [
       "0.1074252607570737"
      ]
     },
     "execution_count": 31,
     "metadata": {},
     "output_type": "execute_result"
    }
   ],
   "source": [
    "lnr.score(out_df[['lotarea', 'lotshape_r','landcontour_r']], out_df[['saleprice']])"
   ]
  }
 ],
 "metadata": {
  "kernelspec": {
   "display_name": "Python 3",
   "language": "python",
   "name": "python3"
  },
  "language_info": {
   "codemirror_mode": {
    "name": "ipython",
    "version": 3
   },
   "file_extension": ".py",
   "mimetype": "text/x-python",
   "name": "python",
   "nbconvert_exporter": "python",
   "pygments_lexer": "ipython3",
   "version": "3.6.3"
  }
 },
 "nbformat": 4,
 "nbformat_minor": 2
}
